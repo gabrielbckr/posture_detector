{
 "cells": [
  {
   "cell_type": "code",
   "execution_count": 1,
   "outputs": [],
   "source": [
    "%load_ext autoreload\n",
    "%autoreload 2"
   ],
   "metadata": {
    "collapsed": false,
    "pycharm": {
     "name": "#%%\n"
    }
   }
  },
  {
   "cell_type": "code",
   "execution_count": 2,
   "outputs": [],
   "source": [
    "import sklearn.pipeline\n",
    "\n",
    "import numpy as np\n",
    "import pandas as pd\n",
    "from matplotlib import pyplot as plt\n",
    "import optuna\n",
    "import pickle\n",
    "import scipy\n",
    "import yellowbrick\n",
    "\n",
    "import sklearn\n",
    "from sklearn import model_selection\n",
    "from sklearn.discriminant_analysis import LinearDiscriminantAnalysis, \\\n",
    "    QuadraticDiscriminantAnalysis\n",
    "from sklearn.linear_model import RidgeClassifier\n",
    "from sklearn.neighbors import KNeighborsClassifier\n",
    "from sklearn.ensemble import AdaBoostClassifier\n",
    "from sklearn.tree import DecisionTreeClassifier\n",
    "from sklearn.ensemble import RandomForestClassifier\n",
    "from sklearn.model_selection import train_test_split as tts\n",
    "\n",
    "import posture_detector\n",
    "from posture_detector.constants import columns\n"
   ],
   "metadata": {
    "collapsed": false,
    "pycharm": {
     "name": "#%%\n"
    }
   }
  },
  {
   "cell_type": "code",
   "execution_count": 3,
   "outputs": [],
   "source": [
    "figure_path = '../images/'"
   ],
   "metadata": {
    "collapsed": false,
    "pycharm": {
     "name": "#%%\n"
    }
   }
  },
  {
   "cell_type": "code",
   "execution_count": 4,
   "outputs": [],
   "source": [
    "optuna.logging.set_verbosity(optuna.logging.ERROR)"
   ],
   "metadata": {
    "collapsed": false,
    "pycharm": {
     "name": "#%%\n"
    }
   }
  },
  {
   "cell_type": "markdown",
   "source": [
    "# Load and parse dataset"
   ],
   "metadata": {
    "collapsed": false
   }
  },
  {
   "cell_type": "code",
   "execution_count": 43,
   "outputs": [],
   "source": [
    "data_location = 'data/raw/datalog_at_2021-07-04_19_07_28.038692'"
   ],
   "metadata": {
    "collapsed": false,
    "pycharm": {
     "name": "#%%\n"
    }
   }
  },
  {
   "cell_type": "code",
   "execution_count": 44,
   "outputs": [
    {
     "data": {
      "text/plain": "         Ax        Ay        Az  Temperature       gx        gy        gz  \\\n0 -0.187500 -0.883301 -0.452393      27.4947  1.90840  1.625950 -13.87790   \n1 -0.286377 -0.917725 -0.354248      27.4947 -4.64122 -1.694660  -4.77099   \n2 -0.350342 -0.951172 -0.354492      27.4947 -5.37405 -0.496183   1.30534   \n3 -0.303711 -0.922119 -0.364258      27.5888 -3.95420  0.015267   0.51145   \n4 -0.299561 -0.919678 -0.356934      27.4947 -2.96947  1.145040   5.68702   \n\n   FlexSensor Label  \n0         562   NaN  \n1         561   NaN  \n2         561   NaN  \n3         561   NaN  \n4         561   NaN  ",
      "text/html": "<div>\n<style scoped>\n    .dataframe tbody tr th:only-of-type {\n        vertical-align: middle;\n    }\n\n    .dataframe tbody tr th {\n        vertical-align: top;\n    }\n\n    .dataframe thead th {\n        text-align: right;\n    }\n</style>\n<table border=\"1\" class=\"dataframe\">\n  <thead>\n    <tr style=\"text-align: right;\">\n      <th></th>\n      <th>Ax</th>\n      <th>Ay</th>\n      <th>Az</th>\n      <th>Temperature</th>\n      <th>gx</th>\n      <th>gy</th>\n      <th>gz</th>\n      <th>FlexSensor</th>\n      <th>Label</th>\n    </tr>\n  </thead>\n  <tbody>\n    <tr>\n      <th>0</th>\n      <td>-0.187500</td>\n      <td>-0.883301</td>\n      <td>-0.452393</td>\n      <td>27.4947</td>\n      <td>1.90840</td>\n      <td>1.625950</td>\n      <td>-13.87790</td>\n      <td>562</td>\n      <td>NaN</td>\n    </tr>\n    <tr>\n      <th>1</th>\n      <td>-0.286377</td>\n      <td>-0.917725</td>\n      <td>-0.354248</td>\n      <td>27.4947</td>\n      <td>-4.64122</td>\n      <td>-1.694660</td>\n      <td>-4.77099</td>\n      <td>561</td>\n      <td>NaN</td>\n    </tr>\n    <tr>\n      <th>2</th>\n      <td>-0.350342</td>\n      <td>-0.951172</td>\n      <td>-0.354492</td>\n      <td>27.4947</td>\n      <td>-5.37405</td>\n      <td>-0.496183</td>\n      <td>1.30534</td>\n      <td>561</td>\n      <td>NaN</td>\n    </tr>\n    <tr>\n      <th>3</th>\n      <td>-0.303711</td>\n      <td>-0.922119</td>\n      <td>-0.364258</td>\n      <td>27.5888</td>\n      <td>-3.95420</td>\n      <td>0.015267</td>\n      <td>0.51145</td>\n      <td>561</td>\n      <td>NaN</td>\n    </tr>\n    <tr>\n      <th>4</th>\n      <td>-0.299561</td>\n      <td>-0.919678</td>\n      <td>-0.356934</td>\n      <td>27.4947</td>\n      <td>-2.96947</td>\n      <td>1.145040</td>\n      <td>5.68702</td>\n      <td>561</td>\n      <td>NaN</td>\n    </tr>\n  </tbody>\n</table>\n</div>"
     },
     "execution_count": 44,
     "metadata": {},
     "output_type": "execute_result"
    }
   ],
   "source": [
    "df_raw = pd.read_csv('../' + data_location)\n",
    "df_raw.head()"
   ],
   "metadata": {
    "collapsed": false,
    "pycharm": {
     "name": "#%%\n"
    }
   }
  },
  {
   "cell_type": "code",
   "execution_count": 45,
   "outputs": [
    {
     "data": {
      "text/plain": "           Ax        Ay        Az        gx        gy        gz  FlexSensor  \\\n982 -0.610840 -0.723877 -0.347656 -0.954198  2.297710  1.854960         573   \n983 -0.630127 -0.722168 -0.338867 -2.595420  1.358780  0.793893         572   \n984 -0.632568 -0.718506 -0.345459 -3.633590  0.656489  3.091600         572   \n985 -0.637451 -0.713135 -0.352051 -3.503820  1.648850  3.587790         574   \n986 -0.622559 -0.710938 -0.329834 -4.610690 -0.931298  2.435110         574   \n\n     Label  \n982      0  \n983      0  \n984      0  \n985      0  \n986      0  ",
      "text/html": "<div>\n<style scoped>\n    .dataframe tbody tr th:only-of-type {\n        vertical-align: middle;\n    }\n\n    .dataframe tbody tr th {\n        vertical-align: top;\n    }\n\n    .dataframe thead th {\n        text-align: right;\n    }\n</style>\n<table border=\"1\" class=\"dataframe\">\n  <thead>\n    <tr style=\"text-align: right;\">\n      <th></th>\n      <th>Ax</th>\n      <th>Ay</th>\n      <th>Az</th>\n      <th>gx</th>\n      <th>gy</th>\n      <th>gz</th>\n      <th>FlexSensor</th>\n      <th>Label</th>\n    </tr>\n  </thead>\n  <tbody>\n    <tr>\n      <th>982</th>\n      <td>-0.610840</td>\n      <td>-0.723877</td>\n      <td>-0.347656</td>\n      <td>-0.954198</td>\n      <td>2.297710</td>\n      <td>1.854960</td>\n      <td>573</td>\n      <td>0</td>\n    </tr>\n    <tr>\n      <th>983</th>\n      <td>-0.630127</td>\n      <td>-0.722168</td>\n      <td>-0.338867</td>\n      <td>-2.595420</td>\n      <td>1.358780</td>\n      <td>0.793893</td>\n      <td>572</td>\n      <td>0</td>\n    </tr>\n    <tr>\n      <th>984</th>\n      <td>-0.632568</td>\n      <td>-0.718506</td>\n      <td>-0.345459</td>\n      <td>-3.633590</td>\n      <td>0.656489</td>\n      <td>3.091600</td>\n      <td>572</td>\n      <td>0</td>\n    </tr>\n    <tr>\n      <th>985</th>\n      <td>-0.637451</td>\n      <td>-0.713135</td>\n      <td>-0.352051</td>\n      <td>-3.503820</td>\n      <td>1.648850</td>\n      <td>3.587790</td>\n      <td>574</td>\n      <td>0</td>\n    </tr>\n    <tr>\n      <th>986</th>\n      <td>-0.622559</td>\n      <td>-0.710938</td>\n      <td>-0.329834</td>\n      <td>-4.610690</td>\n      <td>-0.931298</td>\n      <td>2.435110</td>\n      <td>574</td>\n      <td>0</td>\n    </tr>\n  </tbody>\n</table>\n</div>"
     },
     "execution_count": 45,
     "metadata": {},
     "output_type": "execute_result"
    }
   ],
   "source": [
    "df = posture_detector.data.parse_dataset(df_raw)\n",
    "df.head()"
   ],
   "metadata": {
    "collapsed": false,
    "pycharm": {
     "name": "#%%\n"
    }
   }
  },
  {
   "cell_type": "code",
   "execution_count": 53,
   "outputs": [],
   "source": [
    "X, y = posture_detector.data.train_test.split_record_data(df.drop(columns=['gx', 'gy', 'gz']))"
   ],
   "metadata": {
    "collapsed": false,
    "pycharm": {
     "name": "#%%\n"
    }
   }
  },
  {
   "cell_type": "markdown",
   "source": [
    "# Test Flex Sensor data differs between classes"
   ],
   "metadata": {
    "collapsed": false,
    "pycharm": {
     "name": "#%% md\n"
    }
   }
  },
  {
   "cell_type": "code",
   "execution_count": 47,
   "outputs": [],
   "source": [
    "flex_at_1 = df[ df.Label == 1 ].FlexSensor.values\n",
    "flex_at_0 = df[ df.Label == 0 ].FlexSensor.values"
   ],
   "metadata": {
    "collapsed": false,
    "pycharm": {
     "name": "#%%\n"
    }
   }
  },
  {
   "cell_type": "code",
   "execution_count": 48,
   "outputs": [
    {
     "data": {
      "text/plain": "<Figure size 576x396 with 1 Axes>",
      "image/png": "[encoded data removed]"
     },
     "metadata": {},
     "output_type": "display_data"
    }
   ],
   "source": [
    "plt.hist(flex_at_1, bins=13, alpha=0.8)\n",
    "plt.hist(flex_at_0, bins=13, alpha=0.8)\n",
    "plt.legend(['Ereto', 'Desvio'])\n",
    "plt.show()"
   ],
   "metadata": {
    "collapsed": false,
    "pycharm": {
     "name": "#%%\n"
    }
   }
  },
  {
   "cell_type": "code",
   "execution_count": 49,
   "outputs": [
    {
     "data": {
      "text/plain": "Ttest_indResult(statistic=-117.99051658616618, pvalue=0.0)"
     },
     "execution_count": 49,
     "metadata": {},
     "output_type": "execute_result"
    }
   ],
   "source": [
    "scipy.stats.ttest_ind(\n",
    "    a=flex_at_1,\n",
    "    b=flex_at_0,\n",
    "    equal_var=False,\n",
    "    alternative='two-sided'\n",
    ")"
   ],
   "metadata": {
    "collapsed": false,
    "pycharm": {
     "name": "#%%\n"
    }
   }
  },
  {
   "cell_type": "code",
   "execution_count": 51,
   "outputs": [
    {
     "data": {
      "text/plain": "2527"
     },
     "execution_count": 51,
     "metadata": {},
     "output_type": "execute_result"
    }
   ],
   "source": [
    "len(flex_at_1)"
   ],
   "metadata": {
    "collapsed": false,
    "pycharm": {
     "name": "#%%\n"
    }
   }
  },
  {
   "cell_type": "markdown",
   "source": [
    "# Test Ax"
   ],
   "metadata": {
    "collapsed": false,
    "pycharm": {
     "name": "#%% md\n"
    }
   }
  },
  {
   "cell_type": "code",
   "execution_count": 20,
   "outputs": [
    {
     "data": {
      "text/plain": "Ttest_indResult(statistic=22.063615444536943, pvalue=9.61997664871025e-103)"
     },
     "execution_count": 20,
     "metadata": {},
     "output_type": "execute_result"
    }
   ],
   "source": [
    "scipy.stats.ttest_ind(\n",
    "    df[ df.Label == 1 ]['Az'].values,\n",
    "    df[ df.Label == 0 ]['Az'].values,\n",
    "    equal_var=False,\n",
    "    alternative='two-sided'\n",
    ")"
   ],
   "metadata": {
    "collapsed": false,
    "pycharm": {
     "name": "#%%\n"
    }
   }
  },
  {
   "cell_type": "code",
   "execution_count": 21,
   "outputs": [
    {
     "data": {
      "text/plain": "<Figure size 576x396 with 1 Axes>",
      "image/png": "[encoded data removed]"
     },
     "metadata": {},
     "output_type": "display_data"
    }
   ],
   "source": [
    "plt.hist(df[ df.Label == 0 ]['Ax'].values, bins=20, alpha=0.8)\n",
    "plt.hist(df[ df.Label == 1 ]['Ax'].values, bins=20, alpha=0.8)\n",
    "plt.show()"
   ],
   "metadata": {
    "collapsed": false,
    "pycharm": {
     "name": "#%%\n"
    }
   }
  }
 ],
 "metadata": {
  "kernelspec": {
   "display_name": "Python 3",
   "language": "python",
   "name": "python3"
  },
  "language_info": {
   "codemirror_mode": {
    "name": "ipython",
    "version": 2
   },
   "file_extension": ".py",
   "mimetype": "text/x-python",
   "name": "python",
   "nbconvert_exporter": "python",
   "pygments_lexer": "ipython2",
   "version": "2.7.6"
  }
 },
 "nbformat": 4,
 "nbformat_minor": 0
}